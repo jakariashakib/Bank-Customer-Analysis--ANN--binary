{
 "cells": [
  {
   "cell_type": "markdown",
   "id": "7e50ad4d",
   "metadata": {},
   "source": [
    "# Libraries"
   ]
  },
  {
   "cell_type": "code",
   "execution_count": 2,
   "id": "cac5a531",
   "metadata": {
    "ExecuteTime": {
     "end_time": "2021-11-21T15:15:57.623494Z",
     "start_time": "2021-11-21T15:15:57.604487Z"
    }
   },
   "outputs": [],
   "source": [
    "import numpy as np\n",
    "import pandas as pd\n",
    "import tensorflow as tf\n",
    "from sklearn.model_selection import train_test_split\n",
    "from sklearn.preprocessing import LabelEncoder\n",
    "from sklearn.preprocessing import StandardScaler\n",
    "from sklearn.compose import ColumnTransformer\n",
    "from sklearn.metrics import confusion_matrix, accuracy_score\n",
    "from sklearn.preprocessing import OneHotEncoder"
   ]
  },
  {
   "cell_type": "markdown",
   "id": "8e356372",
   "metadata": {},
   "source": [
    "# Dataset"
   ]
  },
  {
   "cell_type": "code",
   "execution_count": 3,
   "id": "5ed534e4",
   "metadata": {
    "ExecuteTime": {
     "end_time": "2021-11-21T15:15:57.750186Z",
     "start_time": "2021-11-21T15:15:57.627472Z"
    }
   },
   "outputs": [],
   "source": [
    "dataset = pd.read_csv('Churn_Modelling.csv')\n",
    "X = dataset.iloc[:, 3:-1].values\n",
    "y = dataset.iloc[:, -1].values"
   ]
  },
  {
   "cell_type": "markdown",
   "id": "626bdc1b",
   "metadata": {},
   "source": [
    "# Label Encoder"
   ]
  },
  {
   "cell_type": "code",
   "execution_count": 4,
   "id": "f227ffb4",
   "metadata": {
    "ExecuteTime": {
     "end_time": "2021-11-21T15:15:57.843998Z",
     "start_time": "2021-11-21T15:15:57.752158Z"
    }
   },
   "outputs": [],
   "source": [
    "# gender column\n",
    "le = LabelEncoder() \n",
    "X[:, 2] = le.fit_transform(X[:, 2])"
   ]
  },
  {
   "cell_type": "markdown",
   "id": "74e9db5d",
   "metadata": {},
   "source": [
    "# One Hot Encoding"
   ]
  },
  {
   "cell_type": "code",
   "execution_count": 5,
   "id": "32e5d89c",
   "metadata": {
    "ExecuteTime": {
     "end_time": "2021-11-21T15:15:57.998650Z",
     "start_time": "2021-11-21T15:15:57.847976Z"
    }
   },
   "outputs": [],
   "source": [
    "# location column \n",
    "# in order to change simply change the [1] to any index number that you want to do hot encoding\n",
    "ct = ColumnTransformer(transformers=[('encoder', OneHotEncoder(), [1])], remainder='passthrough')\n",
    "X = np.array(ct.fit_transform(X))"
   ]
  },
  {
   "cell_type": "markdown",
   "id": "7617e794",
   "metadata": {},
   "source": [
    "# Train and Test"
   ]
  },
  {
   "cell_type": "code",
   "execution_count": 16,
   "id": "9fdee3f0",
   "metadata": {
    "ExecuteTime": {
     "end_time": "2021-11-21T15:42:49.435456Z",
     "start_time": "2021-11-21T15:42:49.427460Z"
    }
   },
   "outputs": [],
   "source": [
    "X_train, X_test, y_train, y_test = train_test_split(X, y, test_size = 0.2, random_state = 0)"
   ]
  },
  {
   "cell_type": "markdown",
   "id": "461f3ff6",
   "metadata": {},
   "source": [
    "# Feature Scaling"
   ]
  },
  {
   "cell_type": "code",
   "execution_count": 17,
   "id": "1d97fe56",
   "metadata": {
    "ExecuteTime": {
     "end_time": "2021-11-21T15:42:50.716635Z",
     "start_time": "2021-11-21T15:42:50.682483Z"
    }
   },
   "outputs": [],
   "source": [
    "sc = StandardScaler()\n",
    "X_train = sc.fit_transform(X_train)\n",
    "X_test  = sc.transform(X_test)"
   ]
  },
  {
   "cell_type": "markdown",
   "id": "7213af41",
   "metadata": {},
   "source": [
    "# Artificial Neural Networks (ANN)"
   ]
  },
  {
   "cell_type": "code",
   "execution_count": 18,
   "id": "3140ae15",
   "metadata": {
    "ExecuteTime": {
     "end_time": "2021-11-21T15:42:51.815825Z",
     "start_time": "2021-11-21T15:42:51.802846Z"
    }
   },
   "outputs": [],
   "source": [
    "# initialiing ann\n",
    "\n",
    "ann = tf.keras.models.Sequential()\n",
    "\n",
    "# adding first hidden layer\n",
    "\n",
    "ann.add(tf.keras.layers.Dense(units=6, activation='relu'))\n",
    "\n",
    "# adding scond layer\n",
    "\n",
    "ann.add(tf.keras.layers.Dense(units=6, activation='relu'))\n",
    "\n",
    "# adding output layer\n",
    "\n",
    "ann.add(tf.keras.layers.Dense(units=1, activation='sigmoid'))\n",
    "\n",
    "# for binany 'sigmoid'\n",
    "# for non binary 'softmax' (when prediction more than two categories)"
   ]
  },
  {
   "cell_type": "markdown",
   "id": "f8e0dedd",
   "metadata": {},
   "source": [
    "# Training a Artificial Neural Network"
   ]
  },
  {
   "cell_type": "markdown",
   "id": "75e46d5f",
   "metadata": {},
   "source": [
    "## Compiling ANN"
   ]
  },
  {
   "cell_type": "code",
   "execution_count": 19,
   "id": "c54a1d20",
   "metadata": {
    "ExecuteTime": {
     "end_time": "2021-11-21T15:42:53.455839Z",
     "start_time": "2021-11-21T15:42:53.442847Z"
    }
   },
   "outputs": [],
   "source": [
    "ann.compile(optimizer = 'adam', loss = 'binary_crossentropy', metrics = ['accuracy'])\n",
    "\n",
    "# loss -> for binary classification 'binary_crossentropy'\n",
    "# loss -> for non binary classifation 'categorilcal_crossentropy'"
   ]
  },
  {
   "cell_type": "markdown",
   "id": "25e098af",
   "metadata": {},
   "source": [
    "## Training a ANN on the Traning set"
   ]
  },
  {
   "cell_type": "code",
   "execution_count": 20,
   "id": "c395ac6a",
   "metadata": {
    "ExecuteTime": {
     "end_time": "2021-11-21T15:43:13.806279Z",
     "start_time": "2021-11-21T15:42:54.700386Z"
    }
   },
   "outputs": [
    {
     "name": "stdout",
     "output_type": "stream",
     "text": [
      "Epoch 1/100\n",
      "250/250 [==============================] - 0s 763us/step - loss: 0.5946 - accuracy: 0.7825\n",
      "Epoch 2/100\n",
      "250/250 [==============================] - 0s 772us/step - loss: 0.4697 - accuracy: 0.8083\n",
      "Epoch 3/100\n",
      "250/250 [==============================] - 0s 781us/step - loss: 0.4408 - accuracy: 0.8179\n",
      "Epoch 4/100\n",
      "250/250 [==============================] - 0s 767us/step - loss: 0.4297 - accuracy: 0.8199\n",
      "Epoch 5/100\n",
      "250/250 [==============================] - 0s 767us/step - loss: 0.4197 - accuracy: 0.8214\n",
      "Epoch 6/100\n",
      "250/250 [==============================] - 0s 739us/step - loss: 0.4098 - accuracy: 0.8241\n",
      "Epoch 7/100\n",
      "250/250 [==============================] - 0s 739us/step - loss: 0.3987 - accuracy: 0.8250\n",
      "Epoch 8/100\n",
      "250/250 [==============================] - 0s 755us/step - loss: 0.3889 - accuracy: 0.8314\n",
      "Epoch 9/100\n",
      "250/250 [==============================] - 0s 775us/step - loss: 0.3803 - accuracy: 0.8324\n",
      "Epoch 10/100\n",
      "250/250 [==============================] - 0s 767us/step - loss: 0.3738 - accuracy: 0.8335\n",
      "Epoch 11/100\n",
      "250/250 [==============================] - 0s 726us/step - loss: 0.3694 - accuracy: 0.8334\n",
      "Epoch 12/100\n",
      "250/250 [==============================] - 0s 728us/step - loss: 0.3663 - accuracy: 0.8345\n",
      "Epoch 13/100\n",
      "250/250 [==============================] - 0s 739us/step - loss: 0.3630 - accuracy: 0.8357\n",
      "Epoch 14/100\n",
      "250/250 [==============================] - 0s 731us/step - loss: 0.3607 - accuracy: 0.8349\n",
      "Epoch 15/100\n",
      "250/250 [==============================] - 0s 735us/step - loss: 0.3582 - accuracy: 0.8357\n",
      "Epoch 16/100\n",
      "250/250 [==============================] - 0s 739us/step - loss: 0.3566 - accuracy: 0.8400\n",
      "Epoch 17/100\n",
      "250/250 [==============================] - 0s 763us/step - loss: 0.3548 - accuracy: 0.8556\n",
      "Epoch 18/100\n",
      "250/250 [==============================] - 0s 726us/step - loss: 0.3535 - accuracy: 0.8581\n",
      "Epoch 19/100\n",
      "250/250 [==============================] - 0s 722us/step - loss: 0.3521 - accuracy: 0.8585\n",
      "Epoch 20/100\n",
      "250/250 [==============================] - 0s 775us/step - loss: 0.3505 - accuracy: 0.8594\n",
      "Epoch 21/100\n",
      "250/250 [==============================] - 0s 726us/step - loss: 0.3496 - accuracy: 0.8585\n",
      "Epoch 22/100\n",
      "250/250 [==============================] - 0s 718us/step - loss: 0.3485 - accuracy: 0.8602\n",
      "Epoch 23/100\n",
      "250/250 [==============================] - 0s 723us/step - loss: 0.3476 - accuracy: 0.8596\n",
      "Epoch 24/100\n",
      "250/250 [==============================] - 0s 743us/step - loss: 0.3464 - accuracy: 0.8621\n",
      "Epoch 25/100\n",
      "250/250 [==============================] - 0s 743us/step - loss: 0.3459 - accuracy: 0.8614\n",
      "Epoch 26/100\n",
      "250/250 [==============================] - 0s 770us/step - loss: 0.3451 - accuracy: 0.8604\n",
      "Epoch 27/100\n",
      "250/250 [==============================] - 0s 790us/step - loss: 0.3441 - accuracy: 0.8611\n",
      "Epoch 28/100\n",
      "250/250 [==============================] - 0s 794us/step - loss: 0.3438 - accuracy: 0.8619\n",
      "Epoch 29/100\n",
      "250/250 [==============================] - 0s 761us/step - loss: 0.3427 - accuracy: 0.8634\n",
      "Epoch 30/100\n",
      "250/250 [==============================] - 0s 766us/step - loss: 0.3424 - accuracy: 0.8619\n",
      "Epoch 31/100\n",
      "250/250 [==============================] - 0s 801us/step - loss: 0.3422 - accuracy: 0.8600\n",
      "Epoch 32/100\n",
      "250/250 [==============================] - 0s 744us/step - loss: 0.3413 - accuracy: 0.8611\n",
      "Epoch 33/100\n",
      "250/250 [==============================] - 0s 771us/step - loss: 0.3409 - accuracy: 0.8609\n",
      "Epoch 34/100\n",
      "250/250 [==============================] - 0s 731us/step - loss: 0.3404 - accuracy: 0.8619\n",
      "Epoch 35/100\n",
      "250/250 [==============================] - 0s 731us/step - loss: 0.3405 - accuracy: 0.8625\n",
      "Epoch 36/100\n",
      "250/250 [==============================] - 0s 735us/step - loss: 0.3401 - accuracy: 0.8631\n",
      "Epoch 37/100\n",
      "250/250 [==============================] - 0s 743us/step - loss: 0.3395 - accuracy: 0.8634\n",
      "Epoch 38/100\n",
      "250/250 [==============================] - 0s 739us/step - loss: 0.3390 - accuracy: 0.8619\n",
      "Epoch 39/100\n",
      "250/250 [==============================] - 0s 735us/step - loss: 0.3383 - accuracy: 0.8646\n",
      "Epoch 40/100\n",
      "250/250 [==============================] - 0s 759us/step - loss: 0.3386 - accuracy: 0.8622\n",
      "Epoch 41/100\n",
      "250/250 [==============================] - 0s 747us/step - loss: 0.3381 - accuracy: 0.8625\n",
      "Epoch 42/100\n",
      "250/250 [==============================] - 0s 739us/step - loss: 0.3377 - accuracy: 0.8629\n",
      "Epoch 43/100\n",
      "250/250 [==============================] - 0s 763us/step - loss: 0.3373 - accuracy: 0.8635\n",
      "Epoch 44/100\n",
      "250/250 [==============================] - 0s 727us/step - loss: 0.3369 - accuracy: 0.8618\n",
      "Epoch 45/100\n",
      "250/250 [==============================] - 0s 739us/step - loss: 0.3371 - accuracy: 0.8620\n",
      "Epoch 46/100\n",
      "250/250 [==============================] - 0s 763us/step - loss: 0.3367 - accuracy: 0.8624\n",
      "Epoch 47/100\n",
      "250/250 [==============================] - 0s 731us/step - loss: 0.3361 - accuracy: 0.8630\n",
      "Epoch 48/100\n",
      "250/250 [==============================] - 0s 722us/step - loss: 0.3361 - accuracy: 0.8637\n",
      "Epoch 49/100\n",
      "250/250 [==============================] - 0s 723us/step - loss: 0.3358 - accuracy: 0.8648\n",
      "Epoch 50/100\n",
      "250/250 [==============================] - 0s 767us/step - loss: 0.3359 - accuracy: 0.8621\n",
      "Epoch 51/100\n",
      "250/250 [==============================] - 0s 732us/step - loss: 0.3355 - accuracy: 0.8634\n",
      "Epoch 52/100\n",
      "250/250 [==============================] - 0s 752us/step - loss: 0.3354 - accuracy: 0.8634\n",
      "Epoch 53/100\n",
      "250/250 [==============================] - 0s 765us/step - loss: 0.3348 - accuracy: 0.8635\n",
      "Epoch 54/100\n",
      "250/250 [==============================] - 0s 750us/step - loss: 0.3349 - accuracy: 0.8634\n",
      "Epoch 55/100\n",
      "250/250 [==============================] - 0s 739us/step - loss: 0.3345 - accuracy: 0.8622\n",
      "Epoch 56/100\n",
      "250/250 [==============================] - 0s 810us/step - loss: 0.3345 - accuracy: 0.8634\n",
      "Epoch 57/100\n",
      "250/250 [==============================] - 0s 743us/step - loss: 0.3343 - accuracy: 0.8646\n",
      "Epoch 58/100\n",
      "250/250 [==============================] - 0s 733us/step - loss: 0.3339 - accuracy: 0.8631\n",
      "Epoch 59/100\n",
      "250/250 [==============================] - 0s 718us/step - loss: 0.3339 - accuracy: 0.8635\n",
      "Epoch 60/100\n",
      "250/250 [==============================] - 0s 726us/step - loss: 0.3337 - accuracy: 0.8627\n",
      "Epoch 61/100\n",
      "250/250 [==============================] - 0s 735us/step - loss: 0.3336 - accuracy: 0.8631\n",
      "Epoch 62/100\n",
      "250/250 [==============================] - 0s 738us/step - loss: 0.3331 - accuracy: 0.8634\n",
      "Epoch 63/100\n",
      "250/250 [==============================] - 0s 742us/step - loss: 0.3332 - accuracy: 0.8652\n",
      "Epoch 64/100\n",
      "250/250 [==============================] - 0s 743us/step - loss: 0.3328 - accuracy: 0.8639\n",
      "Epoch 65/100\n",
      "250/250 [==============================] - 0s 735us/step - loss: 0.3326 - accuracy: 0.8651\n",
      "Epoch 66/100\n",
      "250/250 [==============================] - 0s 771us/step - loss: 0.3327 - accuracy: 0.8636\n",
      "Epoch 67/100\n",
      "250/250 [==============================] - 0s 747us/step - loss: 0.3325 - accuracy: 0.8637\n",
      "Epoch 68/100\n",
      "250/250 [==============================] - 0s 726us/step - loss: 0.3323 - accuracy: 0.8640\n",
      "Epoch 69/100\n",
      "250/250 [==============================] - 0s 751us/step - loss: 0.3320 - accuracy: 0.8634\n",
      "Epoch 70/100\n",
      "250/250 [==============================] - 0s 743us/step - loss: 0.3319 - accuracy: 0.8636\n",
      "Epoch 71/100\n",
      "250/250 [==============================] - 0s 722us/step - loss: 0.3316 - accuracy: 0.8635\n",
      "Epoch 72/100\n",
      "250/250 [==============================] - 0s 718us/step - loss: 0.3315 - accuracy: 0.8648\n",
      "Epoch 73/100\n",
      "250/250 [==============================] - 0s 717us/step - loss: 0.3320 - accuracy: 0.8631\n",
      "Epoch 74/100\n",
      "250/250 [==============================] - 0s 726us/step - loss: 0.3311 - accuracy: 0.8635\n",
      "Epoch 75/100\n",
      "250/250 [==============================] - 0s 714us/step - loss: 0.3308 - accuracy: 0.8644\n",
      "Epoch 76/100\n",
      "250/250 [==============================] - 0s 726us/step - loss: 0.3311 - accuracy: 0.8631\n",
      "Epoch 77/100\n",
      "250/250 [==============================] - 0s 722us/step - loss: 0.3308 - accuracy: 0.8656\n",
      "Epoch 78/100\n",
      "250/250 [==============================] - 0s 723us/step - loss: 0.3305 - accuracy: 0.8645\n",
      "Epoch 79/100\n",
      "250/250 [==============================] - 0s 718us/step - loss: 0.3310 - accuracy: 0.8631\n",
      "Epoch 80/100\n",
      "250/250 [==============================] - 0s 714us/step - loss: 0.3306 - accuracy: 0.8650\n",
      "Epoch 81/100\n",
      "250/250 [==============================] - 0s 714us/step - loss: 0.3302 - accuracy: 0.8644\n",
      "Epoch 82/100\n",
      "250/250 [==============================] - 0s 711us/step - loss: 0.3307 - accuracy: 0.8650\n",
      "Epoch 83/100\n",
      "250/250 [==============================] - 0s 731us/step - loss: 0.3304 - accuracy: 0.8654\n",
      "Epoch 84/100\n",
      "250/250 [==============================] - 0s 726us/step - loss: 0.3306 - accuracy: 0.8661\n",
      "Epoch 85/100\n",
      "250/250 [==============================] - 0s 731us/step - loss: 0.3303 - accuracy: 0.8649\n",
      "Epoch 86/100\n",
      "250/250 [==============================] - 0s 726us/step - loss: 0.3301 - accuracy: 0.8637\n",
      "Epoch 87/100\n",
      "250/250 [==============================] - 0s 744us/step - loss: 0.3299 - accuracy: 0.8652\n",
      "Epoch 88/100\n",
      "250/250 [==============================] - 0s 746us/step - loss: 0.3302 - accuracy: 0.8639\n",
      "Epoch 89/100\n",
      "250/250 [==============================] - 0s 744us/step - loss: 0.3300 - accuracy: 0.8649\n",
      "Epoch 90/100\n",
      "250/250 [==============================] - 0s 741us/step - loss: 0.3298 - accuracy: 0.8650\n",
      "Epoch 91/100\n",
      "250/250 [==============================] - 0s 749us/step - loss: 0.3295 - accuracy: 0.8645\n",
      "Epoch 92/100\n",
      "250/250 [==============================] - 0s 745us/step - loss: 0.3298 - accuracy: 0.8645\n",
      "Epoch 93/100\n",
      "250/250 [==============================] - 0s 747us/step - loss: 0.3293 - accuracy: 0.8637\n",
      "Epoch 94/100\n",
      "250/250 [==============================] - 0s 718us/step - loss: 0.3294 - accuracy: 0.8649\n",
      "Epoch 95/100\n",
      "250/250 [==============================] - 0s 726us/step - loss: 0.3292 - accuracy: 0.8643\n",
      "Epoch 96/100\n",
      "250/250 [==============================] - 0s 735us/step - loss: 0.3294 - accuracy: 0.8648\n",
      "Epoch 97/100\n",
      "250/250 [==============================] - 0s 735us/step - loss: 0.3289 - accuracy: 0.8656\n",
      "Epoch 98/100\n",
      "250/250 [==============================] - 0s 738us/step - loss: 0.3290 - accuracy: 0.8635\n",
      "Epoch 99/100\n",
      "250/250 [==============================] - 0s 750us/step - loss: 0.3290 - accuracy: 0.8654\n",
      "Epoch 100/100\n",
      "250/250 [==============================] - 0s 745us/step - loss: 0.3290 - accuracy: 0.8649\n"
     ]
    },
    {
     "data": {
      "text/plain": [
       "<keras.callbacks.History at 0x249f0a47f70>"
      ]
     },
     "execution_count": 20,
     "metadata": {},
     "output_type": "execute_result"
    }
   ],
   "source": [
    "ann.fit(X_train, y_train, batch_size=32, epochs=100)\n",
    "# batch_size can be change default 32\n",
    "# epochs can be change "
   ]
  },
  {
   "cell_type": "markdown",
   "id": "4f725846",
   "metadata": {},
   "source": [
    "# Making Prediction and Evaluating the Model"
   ]
  },
  {
   "cell_type": "code",
   "execution_count": null,
   "id": "82862aea",
   "metadata": {},
   "outputs": [],
   "source": [
    "# Location France\n",
    "# Credit Score 600\n",
    "# Gender Male\n",
    "# Age 40\n",
    "# Tenure 3\n",
    "# Balance $60000\n",
    "# Number of products 2\n",
    "# Does this cuntomer have e credit card ? Yes\n",
    "# is this customer an active member ? Yes\n",
    "# Estimated Salary $50000\n",
    "# Should we say goodbye to that customer ?"
   ]
  },
  {
   "cell_type": "code",
   "execution_count": 21,
   "id": "e05f659d",
   "metadata": {
    "ExecuteTime": {
     "end_time": "2021-11-21T15:59:10.068605Z",
     "start_time": "2021-11-21T15:59:09.891293Z"
    }
   },
   "outputs": [
    {
     "name": "stdout",
     "output_type": "stream",
     "text": [
      "[[False]]\n"
     ]
    }
   ],
   "source": [
    "# 1,0,0 -> france\n",
    "# 1 -> Male\n",
    "# credit card 1 -> Yes\n",
    "# active member 1 -> Yes\n",
    "# 0.5 can be change\n",
    "\n",
    "# Accuracy \n",
    "#print(ann.predict(sc.transform([[1,0,0, 600, 1, 40, 3, 60000, 2, 1, 1, 50000]])))\n",
    "\n",
    "# Should we say good bye to that customer ?\n",
    "print(ann.predict(sc.transform([[1,0,0, 600, 1, 40, 3, 60000, 2, 1, 1, 50000]])) > 0.5)"
   ]
  },
  {
   "cell_type": "markdown",
   "id": "b61b792a",
   "metadata": {},
   "source": [
    "# Predicting the Test Result"
   ]
  },
  {
   "cell_type": "code",
   "execution_count": 22,
   "id": "58ef1e9a",
   "metadata": {
    "ExecuteTime": {
     "end_time": "2021-11-21T16:04:43.912173Z",
     "start_time": "2021-11-21T16:04:43.779746Z"
    }
   },
   "outputs": [
    {
     "name": "stdout",
     "output_type": "stream",
     "text": [
      "[[0 0]\n",
      " [0 1]\n",
      " [0 0]\n",
      " ...\n",
      " [0 0]\n",
      " [0 0]\n",
      " [0 0]]\n"
     ]
    }
   ],
   "source": [
    "y_pred = ann.predict(X_test)\n",
    "y_pred = (y_pred > 0.5)\n",
    "print(np.concatenate((y_pred.reshape(len(y_pred),1), y_test.reshape(len(y_test),1)),1))\n",
    "\n",
    "# first 0 predicted stay & actual stay [0 0]\n",
    "# scond 0 predicted stay & actual left [0 1]"
   ]
  },
  {
   "cell_type": "markdown",
   "id": "aa15f1c2",
   "metadata": {},
   "source": [
    "# Confusion Matrix"
   ]
  },
  {
   "cell_type": "code",
   "execution_count": 23,
   "id": "3c141c76",
   "metadata": {
    "ExecuteTime": {
     "end_time": "2021-11-21T16:07:44.215217Z",
     "start_time": "2021-11-21T16:07:44.035749Z"
    }
   },
   "outputs": [
    {
     "name": "stdout",
     "output_type": "stream",
     "text": [
      "[[1510   85]\n",
      " [ 196  209]]\n"
     ]
    },
    {
     "data": {
      "text/plain": [
       "0.8595"
      ]
     },
     "execution_count": 23,
     "metadata": {},
     "output_type": "execute_result"
    }
   ],
   "source": [
    "cm = confusion_matrix(y_test, y_pred)\n",
    "print(cm)\n",
    "accuracy_score(y_test, y_pred)\n",
    "\n",
    "# 1510 corrected prediction for staying in bank\n",
    "#  209 corrected prediction for leaving the bank\n",
    "#  196 incorrect prediction for staying in bank\n",
    "#   85 incorrect prediction for leaving the bank"
   ]
  },
  {
   "cell_type": "code",
   "execution_count": null,
   "id": "42064d54",
   "metadata": {},
   "outputs": [],
   "source": []
  }
 ],
 "metadata": {
  "kernelspec": {
   "display_name": "Python 3",
   "language": "python",
   "name": "python3"
  },
  "language_info": {
   "codemirror_mode": {
    "name": "ipython",
    "version": 3
   },
   "file_extension": ".py",
   "mimetype": "text/x-python",
   "name": "python",
   "nbconvert_exporter": "python",
   "pygments_lexer": "ipython3",
   "version": "3.8.8"
  }
 },
 "nbformat": 4,
 "nbformat_minor": 5
}
